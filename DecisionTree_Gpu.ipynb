{
 "cells": [
  {
   "cell_type": "code",
   "execution_count": 24,
   "metadata": {},
   "outputs": [],
   "source": [
    "import numpy as np\n",
    "import pandas as pd\n",
    "import matplotlib.pyplot as plt\n",
    "import seaborn as sns\n",
    "from sklearn.model_selection import train_test_split\n",
    "from sklearn.preprocessing import StandardScaler , LabelEncoder , OneHotEncoder\n",
    "from sklearn.metrics import accuracy_score , confusion_matrix \n",
    "from xgboost import XGBClassifier\n",
    "from sklearn.svm import SVC\n",
    "from sklearn.tree import DecisionTreeClassifier\n",
    "import time\n",
    "%matplotlib inline"
   ]
  },
  {
   "cell_type": "code",
   "execution_count": 2,
   "metadata": {},
   "outputs": [],
   "source": [
    "df = pd.read_csv(\"C:\\\\Users\\\\Siddharth Bingi\\\\Documents\\\\Sabir ML\\\\Assignment 2\\\\sgemm_product_dataset\\\\sgemm_product.csv\")"
   ]
  },
  {
   "cell_type": "code",
   "execution_count": 3,
   "metadata": {},
   "outputs": [
    {
     "data": {
      "text/html": [
       "<div>\n",
       "<style scoped>\n",
       "    .dataframe tbody tr th:only-of-type {\n",
       "        vertical-align: middle;\n",
       "    }\n",
       "\n",
       "    .dataframe tbody tr th {\n",
       "        vertical-align: top;\n",
       "    }\n",
       "\n",
       "    .dataframe thead th {\n",
       "        text-align: right;\n",
       "    }\n",
       "</style>\n",
       "<table border=\"1\" class=\"dataframe\">\n",
       "  <thead>\n",
       "    <tr style=\"text-align: right;\">\n",
       "      <th></th>\n",
       "      <th>MWG</th>\n",
       "      <th>NWG</th>\n",
       "      <th>KWG</th>\n",
       "      <th>MDIMC</th>\n",
       "      <th>NDIMC</th>\n",
       "      <th>MDIMA</th>\n",
       "      <th>NDIMB</th>\n",
       "      <th>KWI</th>\n",
       "      <th>VWM</th>\n",
       "      <th>VWN</th>\n",
       "      <th>STRM</th>\n",
       "      <th>STRN</th>\n",
       "      <th>SA</th>\n",
       "      <th>SB</th>\n",
       "      <th>run_class</th>\n",
       "    </tr>\n",
       "  </thead>\n",
       "  <tbody>\n",
       "    <tr>\n",
       "      <td>0</td>\n",
       "      <td>16</td>\n",
       "      <td>16</td>\n",
       "      <td>16</td>\n",
       "      <td>8</td>\n",
       "      <td>8</td>\n",
       "      <td>8</td>\n",
       "      <td>8</td>\n",
       "      <td>2</td>\n",
       "      <td>1</td>\n",
       "      <td>1</td>\n",
       "      <td>0</td>\n",
       "      <td>0</td>\n",
       "      <td>0</td>\n",
       "      <td>0</td>\n",
       "      <td>1.0</td>\n",
       "    </tr>\n",
       "    <tr>\n",
       "      <td>1</td>\n",
       "      <td>16</td>\n",
       "      <td>16</td>\n",
       "      <td>16</td>\n",
       "      <td>8</td>\n",
       "      <td>8</td>\n",
       "      <td>8</td>\n",
       "      <td>8</td>\n",
       "      <td>2</td>\n",
       "      <td>1</td>\n",
       "      <td>1</td>\n",
       "      <td>0</td>\n",
       "      <td>0</td>\n",
       "      <td>0</td>\n",
       "      <td>1</td>\n",
       "      <td>1.0</td>\n",
       "    </tr>\n",
       "    <tr>\n",
       "      <td>2</td>\n",
       "      <td>16</td>\n",
       "      <td>16</td>\n",
       "      <td>16</td>\n",
       "      <td>8</td>\n",
       "      <td>8</td>\n",
       "      <td>8</td>\n",
       "      <td>8</td>\n",
       "      <td>2</td>\n",
       "      <td>1</td>\n",
       "      <td>1</td>\n",
       "      <td>0</td>\n",
       "      <td>0</td>\n",
       "      <td>1</td>\n",
       "      <td>0</td>\n",
       "      <td>1.0</td>\n",
       "    </tr>\n",
       "    <tr>\n",
       "      <td>3</td>\n",
       "      <td>16</td>\n",
       "      <td>16</td>\n",
       "      <td>16</td>\n",
       "      <td>8</td>\n",
       "      <td>8</td>\n",
       "      <td>8</td>\n",
       "      <td>8</td>\n",
       "      <td>2</td>\n",
       "      <td>1</td>\n",
       "      <td>1</td>\n",
       "      <td>0</td>\n",
       "      <td>0</td>\n",
       "      <td>1</td>\n",
       "      <td>1</td>\n",
       "      <td>1.0</td>\n",
       "    </tr>\n",
       "    <tr>\n",
       "      <td>4</td>\n",
       "      <td>16</td>\n",
       "      <td>16</td>\n",
       "      <td>16</td>\n",
       "      <td>8</td>\n",
       "      <td>8</td>\n",
       "      <td>8</td>\n",
       "      <td>8</td>\n",
       "      <td>2</td>\n",
       "      <td>1</td>\n",
       "      <td>1</td>\n",
       "      <td>0</td>\n",
       "      <td>1</td>\n",
       "      <td>0</td>\n",
       "      <td>0</td>\n",
       "      <td>1.0</td>\n",
       "    </tr>\n",
       "  </tbody>\n",
       "</table>\n",
       "</div>"
      ],
      "text/plain": [
       "   MWG  NWG  KWG  MDIMC  NDIMC  MDIMA  NDIMB  KWI  VWM  VWN  STRM  STRN  SA  \\\n",
       "0   16   16   16      8      8      8      8    2    1    1     0     0   0   \n",
       "1   16   16   16      8      8      8      8    2    1    1     0     0   0   \n",
       "2   16   16   16      8      8      8      8    2    1    1     0     0   1   \n",
       "3   16   16   16      8      8      8      8    2    1    1     0     0   1   \n",
       "4   16   16   16      8      8      8      8    2    1    1     0     1   0   \n",
       "\n",
       "   SB  run_class  \n",
       "0   0        1.0  \n",
       "1   1        1.0  \n",
       "2   0        1.0  \n",
       "3   1        1.0  \n",
       "4   0        1.0  "
      ]
     },
     "execution_count": 3,
     "metadata": {},
     "output_type": "execute_result"
    }
   ],
   "source": [
    "df[\"avg_run\"] = df.iloc[:,14:].mean(axis = 1)\n",
    "\n",
    "median_run = df['avg_run'].median()\n",
    "\n",
    "df.loc[df['avg_run'] >= median_run, 'run_class'] = 1\n",
    "df.loc[df['avg_run'] < median_run, 'run_class'] = 0\n",
    "\n",
    "df.drop(['Run1 (ms)', 'Run2 (ms)','Run3 (ms)', 'Run4 (ms)', 'avg_run'], axis = 1, inplace = True)\n",
    "df.head()"
   ]
  },
  {
   "cell_type": "code",
   "execution_count": 13,
   "metadata": {},
   "outputs": [],
   "source": [
    "# defining feature matrix(X) and response vector(y) \n",
    "dataset = df.iloc[0:500, :]\n",
    "X = df.iloc[:, 0:14]\n",
    "y = df[\"run_class\"]\n",
    "  \n",
    "\n",
    "\n",
    "# splitting X and y into training and testing sets \n",
    "from sklearn.model_selection import train_test_split \n",
    "\n",
    "X_train, X_test, y_train, y_test = train_test_split(X, y, test_size=0.5,random_state=1) "
   ]
  },
  {
   "cell_type": "code",
   "execution_count": 11,
   "metadata": {},
   "outputs": [],
   "source": [
    "## Accuracy Plots\n",
    "def plot_accuracy(param, acc_train, acc_test, title, xlab, ylab):\n",
    "    plt.plot(param,acc_train,marker='o',markersize=6,color='blue',label='train')\n",
    "    plt.plot(param,acc_test,marker='o',markersize=6,color='red',label='test')\n",
    "    plt.title(title)\n",
    "    plt.xlabel(xlab)\n",
    "    plt.grid()\n",
    "    plt.ylabel(ylab)\n",
    "    plt.legend()\n",
    "    plt.show()"
   ]
  },
  {
   "cell_type": "code",
   "execution_count": 6,
   "metadata": {},
   "outputs": [],
   "source": [
    "## Run time plots\n",
    "def plot_run_time(param, run_time, title, xlab, ylab):\n",
    "    plt.plot(param,run_time,marker='o',markersize=6,color='blue')\n",
    "    plt.title(title)\n",
    "    plt.xlabel(xlab)\n",
    "    plt.grid()\n",
    "    plt.ylabel(ylab)\n",
    "    plt.show()"
   ]
  },
  {
   "cell_type": "markdown",
   "metadata": {},
   "source": [
    "# Decision Tree with different metrics"
   ]
  },
  {
   "cell_type": "code",
   "execution_count": 84,
   "metadata": {},
   "outputs": [],
   "source": [
    "metric = ['gini', 'entropy']\n",
    "metric_acc_train = []\n",
    "metric_acc_test = []\n",
    "for i in range(len(metric)):   \n",
    "    dtree = DecisionTreeClassifier(criterion=metric[i] ,max_depth=None,  random_state= 5 )\n",
    "    dtree.fit(X_train , y_train)\n",
    "    y_pred_train = dtree.predict(X_train)\n",
    "    y_pred_test = dtree.predict(X_test)\n",
    "    metric_acc_train.append(accuracy_score(y_train,y_pred_train))\n",
    "    metric_acc_test.append(accuracy_score(y_test,y_pred_test))"
   ]
  },
  {
   "cell_type": "code",
   "execution_count": 85,
   "metadata": {},
   "outputs": [
    {
     "data": {
      "image/png": "[encoded data removed]",
      "text/plain": [
       "<Figure size 432x288 with 1 Axes>"
      ]
     },
     "metadata": {
      "needs_background": "light"
     },
     "output_type": "display_data"
    }
   ],
   "source": [
    "plot_accuracy(metric, metric_acc_train, metric_acc_test, 'Accuracy vs Criterion', 'Criterion', 'Accuracy')"
   ]
  },
  {
   "cell_type": "markdown",
   "metadata": {},
   "source": [
    "# Decision Tree with various training set sizes"
   ]
  },
  {
   "cell_type": "code",
   "execution_count": 75,
   "metadata": {},
   "outputs": [
    {
     "data": {
      "text/plain": [
       "(120800, 14)"
      ]
     },
     "execution_count": 75,
     "metadata": {},
     "output_type": "execute_result"
    }
   ],
   "source": [
    "X_train.shape"
   ]
  },
  {
   "cell_type": "code",
   "execution_count": 80,
   "metadata": {},
   "outputs": [],
   "source": [
    "# Experiment for varying train size versus accuracy    \n",
    "    \n",
    "metric = ['gini', 'entropy']\n",
    "train_size = np.arange(5000, len(X_train), 5000)\n",
    "depth_acc_train = []\n",
    "depth_acc_test = []\n",
    "metric_acc_train_size = []\n",
    "metric_acc_test_size = []\n",
    "for i in range(len(metric)):\n",
    "    for j in range(len(train_size)):   \n",
    "        dtree = DecisionTreeClassifier(criterion=metric[i] ,max_depth=18,  random_state= 5 )\n",
    "        dtree.fit(X_train.iloc[0:train_size[j]] , y_train.iloc[0:train_size[j]])\n",
    "        y_pred_train = dtree.predict(X_train.iloc[0:train_size[j]])\n",
    "        y_pred_test = dtree.predict(X_test)\n",
    "        depth_acc_train.append(round(accuracy_score(y_train.iloc[0:train_size[j]],y_pred_train),4))\n",
    "        depth_acc_test.append(round(accuracy_score(y_test,y_pred_test),4))\n",
    "    \n",
    "    metric_acc_train_size.append(depth_acc_train)\n",
    "    metric_acc_test_size.append(depth_acc_test)\n",
    "    depth_acc_train = []\n",
    "    depth_acc_test = []"
   ]
  },
  {
   "cell_type": "code",
   "execution_count": 81,
   "metadata": {},
   "outputs": [
    {
     "data": {
      "image/png": "[encoded data removed]",
      "text/plain": [
       "<Figure size 432x288 with 1 Axes>"
      ]
     },
     "metadata": {
      "needs_background": "light"
     },
     "output_type": "display_data"
    }
   ],
   "source": [
    "plt.plot(train_size,metric_acc_train_size[0],marker='o',markersize=6,color='blue',label='gini_train')\n",
    "plt.plot(train_size,metric_acc_train_size[1],marker='o',markersize=6,color='red',label='entropy_train')\n",
    "plt.plot(train_size,metric_acc_test_size[0],marker='o',markersize=6,color='green',label='gini_test')\n",
    "plt.plot(train_size,metric_acc_test_size[1],marker='o',markersize=6,color='violet',label='entropy_test')\n",
    "plt.title('Accuracy vs Training Set Size with different metrics')\n",
    "plt.xlabel('Tree depth')\n",
    "plt.grid()\n",
    "plt.ylabel('Train Size')\n",
    "plt.legend()\n",
    "plt.show()"
   ]
  },
  {
   "cell_type": "markdown",
   "metadata": {},
   "source": [
    "# Overfitting and Pruning :\n",
    "\n",
    "Pruning Parameters\n",
    "\n",
    "    max_leaf_nodes\n",
    "        Reduce the number of leaf nodes\n",
    "    \n",
    "    min_samples_leaf\n",
    "        Restrict the size of sample leaf\n",
    "        \n",
    "    max_depth\n",
    "        Reduce the depth of the tree to build a generalized tree\n"
   ]
  },
  {
   "cell_type": "markdown",
   "metadata": {},
   "source": [
    "### Decision Tree with different max depth and different criterion"
   ]
  },
  {
   "cell_type": "code",
   "execution_count": 53,
   "metadata": {},
   "outputs": [],
   "source": [
    "metric = ['gini', 'entropy']\n",
    "depth = np.arange(5,20,1)\n",
    "depth_acc_train = []\n",
    "depth_acc_test = []\n",
    "metric_acc_train = []\n",
    "metric_acc_test = []\n",
    "for i in range(len(metric)):\n",
    "    for j in range(len(depth)):   \n",
    "        dtree = DecisionTreeClassifier(criterion=metric[i] ,max_depth=depth[j],  random_state= 5 )\n",
    "        #print(depth[j])\n",
    "        dtree.fit(X_train , y_train)\n",
    "        y_pred_train = dtree.predict(X_train)\n",
    "        y_pred_test = dtree.predict(X_test)\n",
    "        depth_acc_train.append(round(accuracy_score(y_train,y_pred_train),4))\n",
    "        depth_acc_test.append(round(accuracy_score(y_test,y_pred_test),4))\n",
    "        #print(depth_acc_train)\n",
    "        #print(depth_acc_test)\n",
    "    \n",
    "    metric_acc_train.append(depth_acc_train)\n",
    "    metric_acc_test.append(depth_acc_test)\n",
    "    depth_acc_train = []\n",
    "    depth_acc_test = []"
   ]
  },
  {
   "cell_type": "code",
   "execution_count": 55,
   "metadata": {
    "scrolled": true
   },
   "outputs": [
    {
     "data": {
      "image/png": "[encoded data removed]",
      "text/plain": [
       "<Figure size 432x288 with 1 Axes>"
      ]
     },
     "metadata": {
      "needs_background": "light"
     },
     "output_type": "display_data"
    }
   ],
   "source": [
    "plt.plot(depth,metric_acc_train[0],marker='o',markersize=6,color='blue',label='gini_train')\n",
    "plt.plot(depth,metric_acc_train[1],marker='o',markersize=6,color='red',label='entropy_train')\n",
    "plt.plot(depth,metric_acc_test[0],marker='o',markersize=6,color='green',label='gini_test')\n",
    "plt.plot(depth,metric_acc_test[1],marker='o',markersize=6,color='black',label='entropy_test')\n",
    "plt.title('Accuracy vs Depth with different metrics')\n",
    "plt.xlabel('Tree depth')\n",
    "plt.grid()\n",
    "plt.ylabel('Accuracy')\n",
    "plt.legend()\n",
    "plt.show()"
   ]
  },
  {
   "cell_type": "markdown",
   "metadata": {},
   "source": [
    "### Decision Tree with different max depth and different criterion"
   ]
  },
  {
   "cell_type": "code",
   "execution_count": 94,
   "metadata": {},
   "outputs": [
    {
     "data": {
      "text/plain": [
       "DecisionTreeClassifier(class_weight=None, criterion='gini', max_depth=None,\n",
       "                       max_features=None, max_leaf_nodes=None,\n",
       "                       min_impurity_decrease=0.0, min_impurity_split=None,\n",
       "                       min_samples_leaf=1, min_samples_split=2,\n",
       "                       min_weight_fraction_leaf=0.0, presort=False,\n",
       "                       random_state=5, splitter='best')"
      ]
     },
     "execution_count": 94,
     "metadata": {},
     "output_type": "execute_result"
    }
   ],
   "source": [
    "dtree = DecisionTreeClassifier(criterion='gini' ,max_depth=None,  random_state= 5 )\n",
    "dtree.fit(X_train , y_train)"
   ]
  },
  {
   "cell_type": "code",
   "execution_count": null,
   "metadata": {},
   "outputs": [],
   "source": []
  }
 ],
 "metadata": {
  "kernelspec": {
   "display_name": "Python 3",
   "language": "python",
   "name": "python3"
  },
  "language_info": {
   "codemirror_mode": {
    "name": "ipython",
    "version": 3
   },
   "file_extension": ".py",
   "mimetype": "text/x-python",
   "name": "python",
   "nbconvert_exporter": "python",
   "pygments_lexer": "ipython3",
   "version": "3.7.4"
  }
 },
 "nbformat": 4,
 "nbformat_minor": 2
}
